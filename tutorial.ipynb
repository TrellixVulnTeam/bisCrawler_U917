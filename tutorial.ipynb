{
 "cells": [
  {
   "cell_type": "markdown",
   "id": "e34b3092-bf7d-4982-a1a9-deaceba54dc2",
   "metadata": {},
   "source": [
    "## Import the Module"
   ]
  },
  {
   "cell_type": "code",
   "execution_count": null,
   "id": "46099674-3da0-4308-9aa8-e06f47347592",
   "metadata": {
    "tags": []
   },
   "outputs": [],
   "source": [
    "from bisCrawler import scraper "
   ]
  },
  {
   "cell_type": "code",
   "execution_count": null,
   "id": "7e897945-b4b7-45aa-9a25-e6375eb04617",
   "metadata": {
    "tags": []
   },
   "outputs": [],
   "source": [
    "scraper()"
   ]
  },
  {
   "cell_type": "markdown",
   "id": "6cc09562-e8b0-439e-a863-201758b6769e",
   "metadata": {},
   "source": [
    "## Checking the Websraped Outcome\n"
   ]
  },
  {
   "cell_type": "code",
   "execution_count": 1,
   "id": "efdec256-a263-4844-9ab9-8773b0e1ec06",
   "metadata": {
    "execution": {
     "iopub.execute_input": "2021-10-01T15:43:30.141873Z",
     "iopub.status.busy": "2021-10-01T15:43:30.141492Z",
     "iopub.status.idle": "2021-10-01T15:43:30.589069Z",
     "shell.execute_reply": "2021-10-01T15:43:30.588500Z",
     "shell.execute_reply.started": "2021-10-01T15:43:30.141693Z"
    }
   },
   "outputs": [],
   "source": [
    "import pandas as pd"
   ]
  },
  {
   "cell_type": "code",
   "execution_count": 2,
   "id": "9bd2d724-92b0-4048-b20f-feff275623e9",
   "metadata": {
    "execution": {
     "iopub.execute_input": "2021-10-01T15:43:30.709513Z",
     "iopub.status.busy": "2021-10-01T15:43:30.709221Z",
     "iopub.status.idle": "2021-10-01T15:43:30.715985Z",
     "shell.execute_reply": "2021-10-01T15:43:30.715405Z",
     "shell.execute_reply.started": "2021-10-01T15:43:30.709482Z"
    },
    "tags": []
   },
   "outputs": [],
   "source": [
    "data = pd.read_csv('central_bank_speeches.csv')"
   ]
  },
  {
   "cell_type": "code",
   "execution_count": 4,
   "id": "7872237b-b25e-4de1-895e-d0b658d1acf1",
   "metadata": {
    "execution": {
     "iopub.execute_input": "2021-10-01T15:43:38.664054Z",
     "iopub.status.busy": "2021-10-01T15:43:38.663790Z",
     "iopub.status.idle": "2021-10-01T15:43:38.673847Z",
     "shell.execute_reply": "2021-10-01T15:43:38.673251Z",
     "shell.execute_reply.started": "2021-10-01T15:43:38.664027Z"
    },
    "tags": []
   },
   "outputs": [
    {
     "data": {
      "text/html": [
       "<div>\n",
       "<style scoped>\n",
       "    .dataframe tbody tr th:only-of-type {\n",
       "        vertical-align: middle;\n",
       "    }\n",
       "\n",
       "    .dataframe tbody tr th {\n",
       "        vertical-align: top;\n",
       "    }\n",
       "\n",
       "    .dataframe thead th {\n",
       "        text-align: right;\n",
       "    }\n",
       "</style>\n",
       "<table border=\"1\" class=\"dataframe\">\n",
       "  <thead>\n",
       "    <tr style=\"text-align: right;\">\n",
       "      <th></th>\n",
       "      <th>Name</th>\n",
       "      <th>Date</th>\n",
       "      <th>Title</th>\n",
       "      <th>Link</th>\n",
       "      <th>pdf</th>\n",
       "      <th>Web Index</th>\n",
       "      <th>ID</th>\n",
       "    </tr>\n",
       "  </thead>\n",
       "  <tbody>\n",
       "    <tr>\n",
       "      <th>0</th>\n",
       "      <td>Christine Lagarde</td>\n",
       "      <td>2021-09-28</td>\n",
       "      <td>Hearing at the Committee on Economic and Mone...</td>\n",
       "      <td>https://www.bis.org/review/r210928a.htm</td>\n",
       "      <td>https://www.bis.org/review/r210928a.pdf</td>\n",
       "      <td>1</td>\n",
       "      <td>r210928a.pdf</td>\n",
       "    </tr>\n",
       "    <tr>\n",
       "      <th>1</th>\n",
       "      <td>Andrew Bailey</td>\n",
       "      <td>2021-09-28</td>\n",
       "      <td>The hard yards</td>\n",
       "      <td>https://www.bis.org/review/r210928b.htm</td>\n",
       "      <td>https://www.bis.org/review/r210928b.pdf</td>\n",
       "      <td>1</td>\n",
       "      <td>r210928b.pdf</td>\n",
       "    </tr>\n",
       "    <tr>\n",
       "      <th>2</th>\n",
       "      <td>Haruhiko Kuroda</td>\n",
       "      <td>2021-09-28</td>\n",
       "      <td>Japan's economy and monetary policy</td>\n",
       "      <td>https://www.bis.org/review/r210928c.htm</td>\n",
       "      <td>https://www.bis.org/review/r210928c.pdf</td>\n",
       "      <td>1</td>\n",
       "      <td>r210928c.pdf</td>\n",
       "    </tr>\n",
       "    <tr>\n",
       "      <th>3</th>\n",
       "      <td>Lael Brainard</td>\n",
       "      <td>2021-09-28</td>\n",
       "      <td>Navigating Delta headwinds on the path to a f...</td>\n",
       "      <td>https://www.bis.org/review/r210928d.htm</td>\n",
       "      <td>https://www.bis.org/review/r210928d.pdf</td>\n",
       "      <td>1</td>\n",
       "      <td>r210928d.pdf</td>\n",
       "    </tr>\n",
       "    <tr>\n",
       "      <th>4</th>\n",
       "      <td>John C Williams</td>\n",
       "      <td>2021-09-28</td>\n",
       "      <td>Business more like usual</td>\n",
       "      <td>https://www.bis.org/review/r210928e.htm</td>\n",
       "      <td>https://www.bis.org/review/r210928e.pdf</td>\n",
       "      <td>1</td>\n",
       "      <td>r210928e.pdf</td>\n",
       "    </tr>\n",
       "  </tbody>\n",
       "</table>\n",
       "</div>"
      ],
      "text/plain": [
       "                Name        Date  \\\n",
       "0  Christine Lagarde  2021-09-28   \n",
       "1      Andrew Bailey  2021-09-28   \n",
       "2    Haruhiko Kuroda  2021-09-28   \n",
       "3      Lael Brainard  2021-09-28   \n",
       "4    John C Williams  2021-09-28   \n",
       "\n",
       "                                               Title  \\\n",
       "0   Hearing at the Committee on Economic and Mone...   \n",
       "1                                     The hard yards   \n",
       "2                Japan's economy and monetary policy   \n",
       "3   Navigating Delta headwinds on the path to a f...   \n",
       "4                           Business more like usual   \n",
       "\n",
       "                                      Link  \\\n",
       "0  https://www.bis.org/review/r210928a.htm   \n",
       "1  https://www.bis.org/review/r210928b.htm   \n",
       "2  https://www.bis.org/review/r210928c.htm   \n",
       "3  https://www.bis.org/review/r210928d.htm   \n",
       "4  https://www.bis.org/review/r210928e.htm   \n",
       "\n",
       "                                       pdf  Web Index            ID  \n",
       "0  https://www.bis.org/review/r210928a.pdf          1  r210928a.pdf  \n",
       "1  https://www.bis.org/review/r210928b.pdf          1  r210928b.pdf  \n",
       "2  https://www.bis.org/review/r210928c.pdf          1  r210928c.pdf  \n",
       "3  https://www.bis.org/review/r210928d.pdf          1  r210928d.pdf  \n",
       "4  https://www.bis.org/review/r210928e.pdf          1  r210928e.pdf  "
      ]
     },
     "execution_count": 4,
     "metadata": {},
     "output_type": "execute_result"
    }
   ],
   "source": [
    "data.head()"
   ]
  }
 ],
 "metadata": {
  "kernelspec": {
   "display_name": "Python 3 (ipykernel)",
   "language": "python",
   "name": "python3"
  },
  "language_info": {
   "codemirror_mode": {
    "name": "ipython",
    "version": 3
   },
   "file_extension": ".py",
   "mimetype": "text/x-python",
   "name": "python",
   "nbconvert_exporter": "python",
   "pygments_lexer": "ipython3",
   "version": "3.9.7"
  }
 },
 "nbformat": 4,
 "nbformat_minor": 5
}
